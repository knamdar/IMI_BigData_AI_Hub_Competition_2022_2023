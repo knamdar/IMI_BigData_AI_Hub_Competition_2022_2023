{
 "cells": [
  {
   "cell_type": "code",
   "execution_count": 1,
   "metadata": {
    "id": "7iG8O6hbZmDZ"
   },
   "outputs": [],
   "source": [
    "# Idea:\n",
    "  # Use a single model for both the risk classification and the bad actor identification using a double CNN"
   ]
  },
  {
   "cell_type": "code",
   "execution_count": 2,
   "metadata": {
    "colab": {
     "base_uri": "https://localhost:8080/"
    },
    "id": "LWuUAJrY4oAp",
    "outputId": "fb371278-77ed-4fd7-d34a-7d44342be3b3"
   },
   "outputs": [],
   "source": [
    "# from google.colab import drive\n",
    "# drive.mount('/content/drive')"
   ]
  },
  {
   "cell_type": "code",
   "execution_count": 3,
   "metadata": {
    "id": "9DNUoVA1bOqZ"
   },
   "outputs": [],
   "source": [
    "import os\n",
    "import numpy as np\n",
    "import torch\n",
    "import torch.nn as nn\n",
    "import torch.nn.functional as F\n",
    "import skimage\n",
    "import matplotlib.pyplot as plt\n",
    "from torch.utils.data import DataLoader, Dataset\n",
    "from scipy import ndimage\n",
    "import math\n",
    "import pandas as pd\n",
    "from sklearn.preprocessing import MinMaxScaler\n",
    "from sklearn.model_selection import train_test_split\n",
    "import datetime\n",
    "\n",
    "import time"
   ]
  },
  {
   "cell_type": "code",
   "execution_count": 4,
   "metadata": {
    "id": "jbQLziLi5p61"
   },
   "outputs": [],
   "source": [
    "root_path = '/hpf/largeprojects/fkhalvati/Jay/new/ai_hub'"
   ]
  },
  {
   "cell_type": "code",
   "execution_count": 5,
   "metadata": {
    "colab": {
     "base_uri": "https://localhost:8080/"
    },
    "id": "MHMAjyMYchqH",
    "outputId": "1d59de55-7870-48cc-8c7e-c98ebe3b6021"
   },
   "outputs": [
    {
     "name": "stderr",
     "output_type": "stream",
     "text": [
      "/localhd/1374374/ipykernel_4100/276505020.py:2: FutureWarning: Inferring datetime64[ns] from data containing strings is deprecated and will be removed in a future version. To retain the old behavior explicitly pass Series(data, dtype={value.dtype})\n",
      "  raw_data = pd.read_excel(os.path.join(root_path, 'data/risk_sheet.xlsx'))\n"
     ]
    }
   ],
   "source": [
    "# Preprocessing data\n",
    "raw_data = pd.read_excel(os.path.join(root_path, 'data/risk_sheet.xlsx'))"
   ]
  },
  {
   "cell_type": "code",
   "execution_count": 6,
   "metadata": {
    "id": "RTPRBKCqhCGm"
   },
   "outputs": [],
   "source": [
    "# Dropping likely irrelevant columns (additional reasoning: dates are annoying to parse into features, and GENDER had too many nulls that weren't easily resolvable)\n",
    "data = raw_data.drop(['GENDER', 'CUSTOMER_ID', 'NAME', 'CUST_ADD_DT', 'OCPTN_NM'], axis=1)"
   ]
  },
  {
   "cell_type": "code",
   "execution_count": 7,
   "metadata": {
    "id": "EnNI9eSHiBjp"
   },
   "outputs": [],
   "source": [
    "non_ordinal_data_columns = ['RES_CNTRY_CA', 'CNTRY_OF_INCOME_CA', 'PEP_FL'] # to one hot encode\n",
    "ordinal_data_columns = ['BIRTH_DT', 'OCPTN_RISK', 'COUNTRY_RISK_INCOME', 'COUNTRY_RISK_RESIDENCY'] # to label encode\n",
    "normalize_data_columns = ['QUERY_RISK', 'CASH_SUM_IN', 'CASH_CNT_IN', 'CASH_SUM_OUT', 'CASH_CNT_IN', 'CASH_CNT_OUT', 'WIRES_SUM_IN', 'WIRES_CNT_IN', 'WIRES_SUM_OUT', 'WIRES_CNT_OUT'] # to normalize (min-max)"
   ]
  },
  {
   "cell_type": "code",
   "execution_count": 8,
   "metadata": {
    "id": "-xWS30lA8rfN"
   },
   "outputs": [],
   "source": [
    "data['BIRTH_DT'] = data['BIRTH_DT'].dt.strftime('%Y').astype(float)"
   ]
  },
  {
   "cell_type": "code",
   "execution_count": 9,
   "metadata": {
    "id": "yVIm1p5ErjZ-"
   },
   "outputs": [],
   "source": [
    "# Min-max scaling certain features\n",
    "minmax_scaler = MinMaxScaler()\n",
    "data[normalize_data_columns] = minmax_scaler.fit_transform(data[normalize_data_columns])"
   ]
  },
  {
   "cell_type": "code",
   "execution_count": 10,
   "metadata": {
    "id": "inKqslNTsnPA"
   },
   "outputs": [],
   "source": [
    "# 1 indexing the ordinal columns when label encoding so that null values can be set to 0 to indicate that it is \"irrelevant information\" rather than having to remove these data samples\n",
    "for col in ordinal_data_columns:\n",
    "  if col == 'BIRTH_DT':\n",
    "    continue\n",
    "  data[col] = data[col].str.lower()\n",
    "  data[col] = data[col].replace('low', 1)\n",
    "  data[col] = data[col].replace('moderate', 2)\n",
    "  data[col] = data[col].replace('high', 3)\n",
    "  data[col].fillna(0, inplace = True)\n",
    "\n",
    "# RISK is the target variable and not only has slightly different names (moderate -> medium), but it also doesn't have any nulls, so can 0 index without concern\n",
    "data['RISK'] = data['RISK'].str.lower()\n",
    "data['RISK'] = data['RISK'].replace('low', 0)\n",
    "data['RISK'] = data['RISK'].replace('medium', 1)\n",
    "data['RISK'] = data['RISK'].replace('high', 2)"
   ]
  },
  {
   "cell_type": "code",
   "execution_count": 11,
   "metadata": {
    "id": "pJQ3JY-1MZC6"
   },
   "outputs": [],
   "source": [
    "def balance_dset(df, target):\n",
    "    high_risk_data = df[df[target]==2].copy()\n",
    "    labels = df[target].copy()\n",
    "    all_mid_risk = labels[labels == 1]\n",
    "    all_low_risk = labels[labels == 0]\n",
    "    mid_risk_to_keep = np.random.choice(all_mid_risk.index, size=high_risk_data.shape[0], replace=False)\n",
    "    low_risk_to_keep = np.random.choice(all_low_risk.index, size=high_risk_data.shape[0], replace=False)\n",
    "    mid_risk_data = df.iloc[mid_risk_to_keep].copy()\n",
    "    low_risk_data = df.iloc[low_risk_to_keep].copy()\n",
    "    new_df = pd.concat([high_risk_data, mid_risk_data, low_risk_data], axis=0)\n",
    "    return new_df\n",
    "\n",
    "data = balance_dset(data, \"RISK\")"
   ]
  },
  {
   "cell_type": "code",
   "execution_count": 12,
   "metadata": {
    "id": "_4j3e8KUy6Zd"
   },
   "outputs": [],
   "source": [
    "data_col_names = list(data.columns.values)\n",
    "data_col_names.remove('RISK')\n",
    "labels = torch.from_numpy(data['RISK'].to_numpy()) # labels first because data is overridden in the next line\n",
    "data = torch.from_numpy(data[data_col_names].to_numpy())"
   ]
  },
  {
   "cell_type": "code",
   "execution_count": 13,
   "metadata": {
    "id": "OqdF9fnJxBna"
   },
   "outputs": [],
   "source": [
    "# Prepare idxs, save if new, else load for consistency\n",
    "\n",
    "if not (os.path.exists(os.path.join(root_path, 'data/train_idxs.npy')) or os.path.exists(os.path.join(root_path, 'data/val_idxs.npy')) or os.path.exists(os.path.join(root_path, 'data/test_idxs.npy'))):\n",
    "  train_idxs, val_test_idxs = train_test_split(list(range(data.shape[0])), test_size=0.2)\n",
    "  val_idxs, test_idxs = train_test_split(val_test_idxs, test_size=0.5)\n",
    "  train_idxs = np.array(train_idxs)\n",
    "  val_idxs = np.array(val_idxs)\n",
    "  test_idxs = np.array(test_idxs)\n",
    "\n",
    "if not (os.path.exists(os.path.join(root_path, 'data/train_idxs.npy')) or os.path.exists(os.path.join(root_path, 'data/val_idxs.npy')) or os.path.exists(os.path.join(root_path, 'data/test_idxs.npy'))):\n",
    "  np.save(os.path.join(root_path, 'data/train_idxs.npy'), train_idxs)\n",
    "  np.save(os.path.join(root_path, 'data/val_idxs.npy'), val_idxs)\n",
    "  np.save(os.path.join(root_path, 'data/test_idxs.npy'), test_idxs)\n",
    "else:\n",
    "  train_idxs = np.load(os.path.join(root_path, 'data/train_idxs.npy'))\n",
    "  val_idxs = np.load(os.path.join(root_path, 'data/val_idxs.npy'))\n",
    "  test_idxs = np.load(os.path.join(root_path, 'data/test_idxs.npy'))"
   ]
  },
  {
   "cell_type": "code",
   "execution_count": 14,
   "metadata": {
    "id": "0xSaOjkR_lC9"
   },
   "outputs": [],
   "source": [
    "# Preparing data\n",
    "data = data.squeeze().unsqueeze(1).float()\n",
    "train_data = data[train_idxs]\n",
    "val_data = data[val_idxs]\n",
    "train_labels = labels[train_idxs]\n",
    "val_labels = labels[val_idxs]"
   ]
  },
  {
   "cell_type": "code",
   "execution_count": 15,
   "metadata": {
    "id": "WWjLzhktW1Zr"
   },
   "outputs": [],
   "source": [
    "# Hyperparameters\n",
    "\n",
    "# checkpoint_path = os.path.join(root_path, \"checkpoints/task2_checkpoint.pt\")\n",
    "checkpoint_path = \"task2_checkpoint.pt\"\n",
    "\n",
    "initial_learning_rate = 0.00002\n",
    "\n",
    "num_epochs = 100\n",
    "batch_size = 32\n",
    "epochs_per_summary = 1\n",
    "\n",
    "num_input_features = data.shape[1]\n",
    "num_initial_features = 200\n",
    "\n",
    "use_cuda = True"
   ]
  },
  {
   "cell_type": "code",
   "execution_count": 16,
   "metadata": {
    "id": "V1m9WiWbXYaF"
   },
   "outputs": [],
   "source": [
    "# Model Definition\n",
    "\n",
    "class EncoderModel(nn.Module):\n",
    "    def __init__(self, num_input_features, num_features):\n",
    "        super(EncoderModel, self).__init__()\n",
    "        # Blocks\n",
    "        #####################\n",
    "        in_0 = num_input_features\n",
    "        out_0 = num_initial_features\n",
    "        self.block_0 = nn.Sequential(\n",
    "            nn.Conv1d(in_0, out_0, kernel_size=3, stride=1, padding=0, bias=False),\n",
    "            nn.BatchNorm1d(out_0),\n",
    "            nn.LeakyReLU(0.2, inplace=True),\n",
    "            nn.Dropout(0.2),\n",
    "        )\n",
    "\n",
    "        in_1 = out_0\n",
    "        out_1 = math.floor(in_1 * 1.25)\n",
    "        self.block_1 = nn.Sequential(\n",
    "            nn.Conv1d(in_1, out_1, kernel_size=3, stride=1, padding=0, bias=False),\n",
    "            nn.BatchNorm1d(out_1),\n",
    "            nn.LeakyReLU(0.2, inplace=True),\n",
    "            nn.Dropout(0.2),\n",
    "        )\n",
    "\n",
    "        in_2 = out_1\n",
    "        out_2 = math.floor(in_2 * 1.25)\n",
    "        self.block_2 = nn.Sequential(\n",
    "            nn.Conv1d(in_2, out_2, kernel_size=3, stride=1, padding=0, bias=False),\n",
    "            nn.BatchNorm1d(out_2),\n",
    "            nn.LeakyReLU(0.2, inplace=True),\n",
    "            nn.Dropout(0.2),\n",
    "        )\n",
    "\n",
    "        in_3 = out_2\n",
    "        out_3 = math.floor(in_3 * 1.25)\n",
    "        self.block_3 = nn.Sequential(\n",
    "            nn.Conv1d(in_3, out_3, kernel_size=3, stride=1, padding=0, bias=False),\n",
    "            nn.BatchNorm1d(out_3),\n",
    "            nn.LeakyReLU(0.2, inplace=True),\n",
    "            nn.Dropout(0.2),\n",
    "        )\n",
    "\n",
    "        self.out_channels = [out_3, out_2, out_1, out_0] # To be used for decoders\n",
    "        #####################\n",
    "\n",
    "    def forward(self, x):\n",
    "        in_0 = x\n",
    "        out_0 = self.block_0(in_0)\n",
    "\n",
    "        in_1 = out_0\n",
    "        out_1 = self.block_1(in_1)\n",
    "\n",
    "        in_2 = out_1\n",
    "        out_2 = self.block_2(in_2)\n",
    "\n",
    "        in_3 = out_2\n",
    "        out_3 = self.block_3(in_3)\n",
    "        \n",
    "        return out_3, out_2, out_1, out_0"
   ]
  },
  {
   "cell_type": "code",
   "execution_count": 17,
   "metadata": {
    "id": "eIyoUN2SfgdO"
   },
   "outputs": [],
   "source": [
    "# Model Definition\n",
    "\n",
    "class DecoderModel(nn.Module):\n",
    "    def __init__(self, encoder_out_channels):\n",
    "        super(DecoderModel, self).__init__()\n",
    "        # Blocks\n",
    "        #####################\n",
    "        num_features = encoder_out_channels[0]\n",
    "        encoder_out_channels = encoder_out_channels[1:]\n",
    "\n",
    "        in_0 = num_features\n",
    "        out_0 = encoder_out_channels[0]\n",
    "        self.block_0 = nn.Sequential(\n",
    "            nn.ConvTranspose1d(in_0, out_0, kernel_size=3, stride=1, padding=0, bias=False),\n",
    "            nn.BatchNorm1d(out_0),\n",
    "            nn.ReLU(True),\n",
    "            nn.Dropout(0.2),\n",
    "        )\n",
    "\n",
    "        in_1 = encoder_out_channels[0]\n",
    "        out_1 = encoder_out_channels[1]\n",
    "        self.block_1 = nn.Sequential(\n",
    "            nn.ConvTranspose1d(in_1, out_1, kernel_size=3, stride=1, padding=0, bias=False),\n",
    "            nn.BatchNorm1d(out_1),\n",
    "            nn.ReLU(True),\n",
    "            nn.Dropout(0.2),\n",
    "        )\n",
    "\n",
    "        in_2 = encoder_out_channels[1]\n",
    "        out_2 = encoder_out_channels[2]\n",
    "        self.block_2 = nn.Sequential(\n",
    "            nn.ConvTranspose1d(in_2, out_2, kernel_size=3, stride=1, padding=0, bias=False),\n",
    "            nn.BatchNorm1d(out_2),\n",
    "            nn.ReLU(True),\n",
    "            nn.Dropout(0.2),\n",
    "        )\n",
    "\n",
    "        in_3 = encoder_out_channels[2]\n",
    "        out_3 = int(in_3 // 1.25)\n",
    "        self.block_3 = nn.Sequential(\n",
    "            nn.ConvTranspose1d(in_3, out_3, kernel_size=3, stride=1, padding=0, bias=False),\n",
    "            nn.BatchNorm1d(out_3),\n",
    "            nn.ReLU(True),\n",
    "            nn.Dropout(0.2),\n",
    "        )\n",
    "\n",
    "        # Skip connections\n",
    "        #####################\n",
    "        self.preskip_1 = nn.Sequential(\n",
    "            nn.Conv1d(in_channels=encoder_out_channels[0], out_channels=encoder_out_channels[0], kernel_size=3, stride=1, padding=1, bias=True),\n",
    "            nn.ReLU(True),\n",
    "        )\n",
    "        self.skip_1 = nn.Sequential(\n",
    "            nn.Conv1d(in_channels=in_1 * 2, out_channels=in_1, kernel_size=3, stride=1, padding=1, bias=True),\n",
    "            nn.ReLU(True),\n",
    "        )\n",
    "\n",
    "        self.preskip_2 = nn.Sequential(\n",
    "            nn.Conv1d(in_channels=encoder_out_channels[1], out_channels=encoder_out_channels[1], kernel_size=3, stride=1, padding=1, bias=True),\n",
    "            nn.ReLU(True),\n",
    "        )\n",
    "        self.skip_2 = nn.Sequential(\n",
    "            nn.Conv1d(in_channels=in_2 * 2, out_channels=in_2, kernel_size=3, stride=1, padding=1, bias=True),\n",
    "            nn.ReLU(True),\n",
    "        )\n",
    "\n",
    "        self.preskip_3 = nn.Sequential(\n",
    "            nn.Conv1d(in_channels=encoder_out_channels[2], out_channels=encoder_out_channels[2], kernel_size=3, stride=1, padding=1, bias=True),\n",
    "            nn.ReLU(True),\n",
    "        )\n",
    "        self.skip_3 = nn.Sequential(\n",
    "            nn.Conv1d(in_channels=in_3 * 2, out_channels=in_3, kernel_size=3, stride=1, padding=1, bias=True),\n",
    "            nn.ReLU(True),\n",
    "        )\n",
    "        #####################\n",
    "\n",
    "    def forward(self, encoder_out_3, encoder_out_2, encoder_out_1, encoder_out_0):\n",
    "        in_0 = encoder_out_3\n",
    "        out_0 = self.block_0(encoder_out_3)\n",
    "\n",
    "        in_1 = self.skip_1(torch.cat((out_0, self.preskip_1(encoder_out_2)), 1))\n",
    "        out_1 = self.block_1(in_1)\n",
    "\n",
    "        in_2 = self.skip_2(torch.cat((out_1, self.preskip_2(encoder_out_1)), 1))\n",
    "        out_2 = self.block_2(in_2)\n",
    "\n",
    "        in_3 = self.skip_3(torch.cat((out_2, self.preskip_3(encoder_out_0)), 1))\n",
    "        out_3 = self.block_3(in_3)\n",
    "        \n",
    "        return out_3"
   ]
  },
  {
   "cell_type": "code",
   "execution_count": 18,
   "metadata": {
    "id": "tfYHcikb7v3O"
   },
   "outputs": [],
   "source": [
    "# Model Definition\n",
    "\n",
    "class CombinedModel(nn.Module):\n",
    "    def __init__(self, num_input_features, num_initial_features):\n",
    "        super(CombinedModel, self).__init__()\n",
    "\n",
    "        self.encoder = EncoderModel(num_input_features, num_initial_features)\n",
    "        self.decoder_risk = DecoderModel(self.encoder.out_channels)\n",
    "        self.decoder_badactor = DecoderModel(self.encoder.out_channels)\n",
    "\n",
    "        flattened_size = 2560 # Just checked manually\n",
    "\n",
    "        self.linear_risk = nn.Sequential(\n",
    "            nn.Flatten(),\n",
    "            nn.Linear(flattened_size,1024),\n",
    "            nn.ReLU(),\n",
    "            nn.Dropout(0.2),\n",
    "            nn.Linear(1024, 512),\n",
    "            nn.ReLU(),\n",
    "            nn.Dropout(0.2),\n",
    "            nn.Linear(512, 3),\n",
    "            # nn.Softmax(dim=1)\n",
    "        )\n",
    "\n",
    "        self.linear_badactor = nn.Sequential(\n",
    "            nn.Flatten(),\n",
    "            nn.Linear(flattened_size,1024),\n",
    "            nn.ReLU(),\n",
    "            nn.Dropout(0.2),\n",
    "            nn.Linear(1024, 512),\n",
    "            nn.ReLU(),\n",
    "            nn.Dropout(0.2),\n",
    "            nn.Linear(512, 2),\n",
    "            # nn.Softmax(dim=1)\n",
    "        )\n",
    "        \n",
    "        #####################\n",
    "\n",
    "    def forward(self, x):\n",
    "        encoder_out = self.encoder(x)\n",
    "        decoder_risk_out = self.decoder_risk(*encoder_out)\n",
    "        #decoder_badactor_out = self.decoder_badactor(*encoder_out)\n",
    "        risk_scores = self.linear_risk(decoder_risk_out)\n",
    "        #badactor_scores = self.linear_badactor(decoder_badactor_out)\n",
    "        \n",
    "        return risk_scores#, badactor_scores"
   ]
  },
  {
   "cell_type": "code",
   "execution_count": 19,
   "metadata": {
    "id": "v9zShaXdDJJc"
   },
   "outputs": [],
   "source": [
    "model = CombinedModel(num_input_features, num_initial_features)"
   ]
  },
  {
   "cell_type": "code",
   "execution_count": 55,
   "metadata": {
    "id": "pYvs6Rro9s8A"
   },
   "outputs": [],
   "source": [
    "# weights = 1 / torch.unique(train_labels, return_counts=True)[1]\n",
    "# sampler = torch.utils.data.sampler.WeightedRandomSampler(weights, batch_size)"
   ]
  },
  {
   "cell_type": "code",
   "execution_count": 20,
   "metadata": {
    "id": "4J4NhDDG9Bmh"
   },
   "outputs": [],
   "source": [
    "class classification_dataset(Dataset):\n",
    "    def __init__(self, data, labels):\n",
    "    # def __init__(self, data, tumor_labels):\n",
    "        super().__init__()\n",
    "        # data is (N, 4, H, W)\n",
    "        # labels is (N, H, W)\n",
    "\n",
    "        self.num_data = len(data)\n",
    "        self.data = data.float()\n",
    "        self.labels = labels.long()\n",
    "\n",
    "    def __len__(self):\n",
    "        return self.num_data\n",
    "\n",
    "    def __getitem__(self, idx):\n",
    "        return self.data[idx] , self.labels[idx]\n",
    "\n",
    "\n",
    "train_dataset = classification_dataset(train_data, train_labels)\n",
    "# train_dataloader = DataLoader(train_dataset, batch_size=batch_size, pin_memory=False, num_workers=0, drop_last=True, shuffle=False, sampler=sampler)\n",
    "train_dataloader = DataLoader(train_dataset, batch_size=batch_size, pin_memory=False, num_workers=0, drop_last=True, shuffle=False)\n",
    "val_dataset = classification_dataset(val_data, val_labels)\n",
    "val_dataloader = DataLoader(val_dataset, batch_size=batch_size, pin_memory=False, num_workers=0, drop_last=False, shuffle=False)"
   ]
  },
  {
   "cell_type": "code",
   "execution_count": 59,
   "metadata": {
    "colab": {
     "base_uri": "https://localhost:8080/"
    },
    "id": "v9sMdm_1aGja",
    "outputId": "a984f8d6-4cc0-4513-fda7-3f97a570ab09",
    "scrolled": true
   },
   "outputs": [
    {
     "name": "stdout",
     "output_type": "stream",
     "text": [
      "Beginning training\n",
      "Epoch: 1, Train Total Loss 0.5928252770662308, Val Total Loss 0.3029481882034843, Time 61.60494017601013\n",
      "Checkpoint saved\n",
      "Epoch: 2, Train Total Loss 0.35678710005283354, Val Total Loss 0.3107141870965581, Time 61.845152139663696\n",
      "Checkpoint saved\n",
      "Epoch: 3, Train Total Loss 0.33693918956716856, Val Total Loss 0.289167673015264, Time 63.11667847633362\n",
      "Checkpoint saved\n",
      "Epoch: 4, Train Total Loss 0.3234548786441485, Val Total Loss 0.29065021990077583, Time 62.30676531791687\n",
      "Checkpoint saved\n",
      "Epoch: 5, Train Total Loss 0.315808067603906, Val Total Loss 0.27059253157456037, Time 61.6445746421814\n",
      "Checkpoint saved\n",
      "Epoch: 6, Train Total Loss 0.31486901716391247, Val Total Loss 0.28152657162024775, Time 61.57389259338379\n",
      "Checkpoint saved\n",
      "Epoch: 7, Train Total Loss 0.31704875924189885, Val Total Loss 0.27078492270667415, Time 62.17567706108093\n",
      "Checkpoint saved\n",
      "Epoch: 8, Train Total Loss 0.3160504162788391, Val Total Loss 0.2694760309035844, Time 61.98514771461487\n",
      "Checkpoint saved\n",
      "Epoch: 9, Train Total Loss 0.318014900457859, Val Total Loss 0.2775811383337863, Time 62.65651726722717\n",
      "Checkpoint saved\n",
      "Epoch: 10, Train Total Loss 0.31973658487796786, Val Total Loss 0.28725119632507945, Time 62.44584059715271\n",
      "Checkpoint saved\n",
      "Epoch: 11, Train Total Loss 0.32718363426526387, Val Total Loss 0.28759107228789504, Time 62.06228423118591\n",
      "Checkpoint saved\n",
      "Epoch: 12, Train Total Loss 0.3342101416508357, Val Total Loss 0.29707825941635346, Time 60.65036106109619\n",
      "Checkpoint saved\n",
      "Epoch: 13, Train Total Loss 0.3427924021800359, Val Total Loss 0.3190268162788867, Time 60.796865701675415\n",
      "Checkpoint saved\n",
      "Epoch: 14, Train Total Loss 0.3512151853760084, Val Total Loss 0.31714014839261834, Time 60.77601337432861\n",
      "Checkpoint saved\n",
      "Epoch: 15, Train Total Loss 0.3519338031768799, Val Total Loss 0.3093846710378936, Time 60.801562786102295\n",
      "Checkpoint saved\n",
      "Epoch: 16, Train Total Loss 0.3508886172215144, Val Total Loss 0.3122842187312112, Time 60.674973011016846\n",
      "Checkpoint saved\n",
      "Epoch: 17, Train Total Loss 0.3513483256101608, Val Total Loss 0.31224331882462575, Time 60.70140767097473\n",
      "Checkpoint saved\n",
      "Epoch: 18, Train Total Loss 0.3490476575533549, Val Total Loss 0.315979534438424, Time 63.39724850654602\n",
      "Checkpoint saved\n",
      "Epoch: 19, Train Total Loss 0.34909902683496474, Val Total Loss 0.3110157815632281, Time 63.65644693374634\n",
      "Checkpoint saved\n",
      "Epoch: 20, Train Total Loss 0.34681243615150453, Val Total Loss 0.3060213793505992, Time 61.715614557266235\n",
      "Checkpoint saved\n",
      "Epoch: 21, Train Total Loss 0.3454526190559069, Val Total Loss 0.31151351243702335, Time 61.66783785820007\n",
      "Checkpoint saved\n",
      "Epoch: 22, Train Total Loss 0.34461076439619065, Val Total Loss 0.30804823685302407, Time 60.67122507095337\n",
      "Checkpoint saved\n",
      "Epoch: 23, Train Total Loss 0.3449612444361051, Val Total Loss 0.30337128209978786, Time 63.67618489265442\n",
      "Checkpoint saved\n",
      "Epoch: 24, Train Total Loss 0.343398874270916, Val Total Loss 0.3065270684611823, Time 60.69417381286621\n",
      "Checkpoint saved\n",
      "Epoch: 25, Train Total Loss 0.34312424429655075, Val Total Loss 0.3081442906118151, Time 62.383169174194336\n",
      "Checkpoint saved\n",
      "Epoch: 26, Train Total Loss 0.334425318813324, Val Total Loss 0.3019772183412174, Time 62.155839681625366\n",
      "Checkpoint saved\n",
      "Epoch: 27, Train Total Loss 0.3340584221879641, Val Total Loss 0.29895343736354224, Time 61.57969284057617\n",
      "Checkpoint saved\n",
      "Epoch: 28, Train Total Loss 0.33284936464627585, Val Total Loss 0.2964243380182079, Time 61.65687823295593\n",
      "Checkpoint saved\n",
      "Epoch: 29, Train Total Loss 0.33479315647681557, Val Total Loss 0.30502716401047797, Time 61.6674919128418\n",
      "Checkpoint saved\n",
      "Epoch: 30, Train Total Loss 0.3327324855605761, Val Total Loss 0.29983619622774976, Time 61.67176866531372\n",
      "Checkpoint saved\n",
      "Epoch: 31, Train Total Loss 0.332232482111454, Val Total Loss 0.29883546426669877, Time 61.53781533241272\n",
      "Checkpoint saved\n",
      "Epoch: 32, Train Total Loss 0.3328838731209437, Val Total Loss 0.30019614658058325, Time 61.56697654724121\n",
      "Checkpoint saved\n",
      "Epoch: 33, Train Total Loss 0.33370725234746934, Val Total Loss 0.2996439035100215, Time 61.51366424560547\n",
      "Checkpoint saved\n",
      "Epoch: 34, Train Total Loss 0.3323139366467794, Val Total Loss 0.29776958118814395, Time 61.66786050796509\n",
      "Checkpoint saved\n",
      "Epoch: 35, Train Total Loss 0.333685293229421, Val Total Loss 0.2972430378071535, Time 61.60965633392334\n",
      "Checkpoint saved\n",
      "Epoch: 36, Train Total Loss 0.33260848442316054, Val Total Loss 0.2972575144600004, Time 61.62707591056824\n",
      "Checkpoint saved\n",
      "Epoch: 37, Train Total Loss 0.3320672501881917, Val Total Loss 0.30024689876003813, Time 61.51196026802063\n",
      "Checkpoint saved\n",
      "Epoch: 38, Train Total Loss 0.33306345249414443, Val Total Loss 0.29667866766961143, Time 61.72583508491516\n",
      "Checkpoint saved\n",
      "Epoch: 39, Train Total Loss 0.33337130265633264, Val Total Loss 0.3008206911813984, Time 60.830450773239136\n",
      "Checkpoint saved\n",
      "Epoch: 40, Train Total Loss 0.3329724402228991, Val Total Loss 0.29781403487869923, Time 60.661863803863525\n",
      "Checkpoint saved\n",
      "Epoch: 41, Train Total Loss 0.3329465716759364, Val Total Loss 0.2946566301209332, Time 62.527159690856934\n",
      "Checkpoint saved\n",
      "Epoch: 42, Train Total Loss 0.3330472686012586, Val Total Loss 0.2987031636557091, Time 61.031739950180054\n",
      "Checkpoint saved\n",
      "Epoch: 43, Train Total Loss 0.3320847539027532, Val Total Loss 0.29825776648610386, Time 60.89761781692505\n",
      "Checkpoint saved\n",
      "Epoch: 44, Train Total Loss 0.33268489965597786, Val Total Loss 0.29823824431278556, Time 60.99926471710205\n",
      "Checkpoint saved\n",
      "Epoch: 45, Train Total Loss 0.33222597951094307, Val Total Loss 0.2964180498870451, Time 60.923943281173706\n",
      "Checkpoint saved\n",
      "Epoch: 46, Train Total Loss 0.3324049564441045, Val Total Loss 0.2963700220147684, Time 60.76858305931091\n",
      "Checkpoint saved\n",
      "Epoch: 47, Train Total Loss 0.33198579058249794, Val Total Loss 0.2991154829322148, Time 60.646581172943115\n",
      "Checkpoint saved\n",
      "Epoch: 48, Train Total Loss 0.33259207661946616, Val Total Loss 0.2976839345401284, Time 60.78269600868225\n",
      "Checkpoint saved\n",
      "Epoch: 49, Train Total Loss 0.33223075420856474, Val Total Loss 0.2955707881305772, Time 61.129409313201904\n",
      "Checkpoint saved\n",
      "Epoch: 50, Train Total Loss 0.33188265885909396, Val Total Loss 0.29394951442093736, Time 61.12717390060425\n",
      "Checkpoint saved\n",
      "Epoch: 51, Train Total Loss 0.3269219126224518, Val Total Loss 0.2932271291769898, Time 61.04083800315857\n",
      "Checkpoint saved\n",
      "Epoch: 52, Train Total Loss 0.32751620086431504, Val Total Loss 0.2949322073190197, Time 62.33100485801697\n",
      "Checkpoint saved\n",
      "Epoch: 53, Train Total Loss 0.3265434681137403, Val Total Loss 0.29755828925160205, Time 62.22132968902588\n",
      "Checkpoint saved\n",
      "Epoch: 54, Train Total Loss 0.3264781951904297, Val Total Loss 0.2956432820573799, Time 62.27757000923157\n",
      "Checkpoint saved\n",
      "Epoch: 55, Train Total Loss 0.32660575055678687, Val Total Loss 0.29384224129511094, Time 60.8751585483551\n",
      "Checkpoint saved\n",
      "Epoch: 56, Train Total Loss 0.32676534526745477, Val Total Loss 0.29634857225392675, Time 60.90664982795715\n",
      "Checkpoint saved\n",
      "Epoch: 57, Train Total Loss 0.32554674937725064, Val Total Loss 0.29493983962070713, Time 61.10039567947388\n",
      "Checkpoint saved\n",
      "Epoch: 58, Train Total Loss 0.32709738985300063, Val Total Loss 0.2951093050462605, Time 60.892975091934204\n",
      "Checkpoint saved\n",
      "Epoch: 59, Train Total Loss 0.3258479412794113, Val Total Loss 0.2964503999743889, Time 60.992507219314575\n",
      "Checkpoint saved\n",
      "Epoch: 60, Train Total Loss 0.3256343660791715, Val Total Loss 0.29526698268425744, Time 60.73948931694031\n",
      "Checkpoint saved\n",
      "Epoch: 61, Train Total Loss 0.32540231131315234, Val Total Loss 0.2941468170425023, Time 61.44425439834595\n",
      "Checkpoint saved\n",
      "Epoch: 62, Train Total Loss 0.32655835426648455, Val Total Loss 0.29138911185043453, Time 61.449769020080566\n",
      "Checkpoint saved\n",
      "Epoch: 63, Train Total Loss 0.32565090194940566, Val Total Loss 0.29336277555936435, Time 62.63766312599182\n",
      "Checkpoint saved\n",
      "Epoch: 64, Train Total Loss 0.3261412696917852, Val Total Loss 0.29724017745142045, Time 61.622875452041626\n",
      "Checkpoint saved\n",
      "Epoch: 65, Train Total Loss 0.3251049740235011, Val Total Loss 0.29370452555766235, Time 61.70954394340515\n",
      "Checkpoint saved\n",
      "Epoch: 66, Train Total Loss 0.32555230989058814, Val Total Loss 0.29184248695559084, Time 61.721832275390625\n",
      "Checkpoint saved\n"
     ]
    },
    {
     "name": "stdout",
     "output_type": "stream",
     "text": [
      "Epoch: 67, Train Total Loss 0.3254732467095057, Val Total Loss 0.29147288597214704, Time 61.63095736503601\n",
      "Checkpoint saved\n",
      "Epoch: 68, Train Total Loss 0.3255625820239385, Val Total Loss 0.29514287604388395, Time 61.853041887283325\n",
      "Checkpoint saved\n",
      "Epoch: 69, Train Total Loss 0.3256212360103925, Val Total Loss 0.29145819191803046, Time 61.69941425323486\n",
      "Checkpoint saved\n",
      "Epoch: 70, Train Total Loss 0.32583613635698955, Val Total Loss 0.29623283892234503, Time 61.537519216537476\n",
      "Checkpoint saved\n",
      "Epoch: 71, Train Total Loss 0.3249875966668129, Val Total Loss 0.2946998504147347, Time 61.55144143104553\n",
      "Checkpoint saved\n",
      "Epoch: 72, Train Total Loss 0.3248446500102679, Val Total Loss 0.296325755541894, Time 61.01585674285889\n",
      "Checkpoint saved\n",
      "Epoch: 73, Train Total Loss 0.3258172984560331, Val Total Loss 0.29480375687895555, Time 62.08413910865784\n",
      "Checkpoint saved\n",
      "Epoch: 74, Train Total Loss 0.3248152036070824, Val Total Loss 0.29585618759269144, Time 60.589781522750854\n",
      "Checkpoint saved\n",
      "Epoch: 75, Train Total Loss 0.32611700617869693, Val Total Loss 0.29048697957034303, Time 60.74316620826721\n",
      "Checkpoint saved\n",
      "Epoch: 76, Train Total Loss 0.3234714564124743, Val Total Loss 0.2925216185131561, Time 60.61589527130127\n",
      "Checkpoint saved\n",
      "Epoch: 77, Train Total Loss 0.3217428097963333, Val Total Loss 0.29308539628982544, Time 60.65677189826965\n",
      "Checkpoint saved\n",
      "Epoch: 78, Train Total Loss 0.32280452549854916, Val Total Loss 0.2927927121297637, Time 60.49761414527893\n",
      "Checkpoint saved\n",
      "Epoch: 79, Train Total Loss 0.3226457845052083, Val Total Loss 0.29246172086516425, Time 60.4891037940979\n",
      "Checkpoint saved\n",
      "Epoch: 80, Train Total Loss 0.323103890021642, Val Total Loss 0.29297501739980314, Time 60.484737157821655\n",
      "Checkpoint saved\n",
      "Epoch: 81, Train Total Loss 0.32233218528032304, Val Total Loss 0.29204847368159526, Time 61.525941133499146\n",
      "Checkpoint saved\n",
      "Epoch: 82, Train Total Loss 0.3218730104327202, Val Total Loss 0.291728720450198, Time 61.452781677246094\n",
      "Checkpoint saved\n",
      "Epoch: 83, Train Total Loss 0.3222485255320867, Val Total Loss 0.2912596051118521, Time 61.47494554519653\n",
      "Checkpoint saved\n",
      "Epoch: 84, Train Total Loss 0.32236970309813817, Val Total Loss 0.2910118518607703, Time 61.41655731201172\n",
      "Checkpoint saved\n",
      "Epoch: 85, Train Total Loss 0.3220464033206304, Val Total Loss 0.2911485666468708, Time 61.56214785575867\n",
      "Checkpoint saved\n",
      "Epoch: 86, Train Total Loss 0.321838900744915, Val Total Loss 0.29400053747427235, Time 61.3783483505249\n",
      "Checkpoint saved\n",
      "Epoch: 87, Train Total Loss 0.3215319464961688, Val Total Loss 0.29455954068378093, Time 61.51451349258423\n",
      "Checkpoint saved\n",
      "Epoch: 88, Train Total Loss 0.3222688929915428, Val Total Loss 0.2900960758677932, Time 61.508187770843506\n",
      "Checkpoint saved\n",
      "Epoch: 89, Train Total Loss 0.3218702695449193, Val Total Loss 0.2905283922643295, Time 61.13464832305908\n",
      "Checkpoint saved\n",
      "Epoch: 90, Train Total Loss 0.32107893836895623, Val Total Loss 0.2919200897884013, Time 60.51970624923706\n",
      "Checkpoint saved\n",
      "Epoch: 91, Train Total Loss 0.3215683463851611, Val Total Loss 0.2914978845922678, Time 60.47314739227295\n",
      "Checkpoint saved\n",
      "Epoch: 92, Train Total Loss 0.3223070154070854, Val Total Loss 0.2921432389347538, Time 60.309303283691406\n",
      "Checkpoint saved\n",
      "Epoch: 93, Train Total Loss 0.3211366403778394, Val Total Loss 0.29223264672799404, Time 60.35231375694275\n",
      "Checkpoint saved\n",
      "Epoch: 94, Train Total Loss 0.3220157514969508, Val Total Loss 0.2922039893009007, Time 60.547093868255615\n",
      "Checkpoint saved\n",
      "Epoch: 95, Train Total Loss 0.32201878283818564, Val Total Loss 0.2917376972719042, Time 60.565946102142334\n",
      "Checkpoint saved\n",
      "Epoch: 96, Train Total Loss 0.3230086166461309, Val Total Loss 0.29348811953624426, Time 60.483107566833496\n",
      "Checkpoint saved\n",
      "Epoch: 97, Train Total Loss 0.32204675631523133, Val Total Loss 0.29119068879816834, Time 60.38327217102051\n",
      "Checkpoint saved\n",
      "Epoch: 98, Train Total Loss 0.32186461672385536, Val Total Loss 0.2907016648094791, Time 65.59378480911255\n",
      "Checkpoint saved\n",
      "Epoch: 99, Train Total Loss 0.3214996681451798, Val Total Loss 0.2918830522532656, Time 71.1471734046936\n",
      "Checkpoint saved\n",
      "Epoch: 100, Train Total Loss 0.3216282069484393, Val Total Loss 0.29289427671287616, Time 61.92628002166748\n",
      "Checkpoint saved\n",
      "Completed training.\n"
     ]
    }
   ],
   "source": [
    "cross_entropy_loss = nn.CrossEntropyLoss()\n",
    "\n",
    "optimizer = torch.optim.Adam(lr=initial_learning_rate, params=model.parameters(), weight_decay=0.1)\n",
    "scheduler = torch.optim.lr_scheduler.StepLR(optimizer, step_size=num_epochs // 4, gamma=0.5)\n",
    "\n",
    "initial_epoch = 1\n",
    "if os.path.exists(checkpoint_path):\n",
    "    # assert os.path.exists(checkpoint_path), \"Checkpoint must exist\"\n",
    "\n",
    "    checkpoint = torch.load(checkpoint_path)\n",
    "    initial_epoch = checkpoint['epoch']\n",
    "    model.load_state_dict(checkpoint['model_state_dict'])\n",
    "    optimizer.load_state_dict(checkpoint['optimizer_state_dict'])\n",
    "    scheduler.load_state_dict(checkpoint['scheduler_state_dict'])\n",
    "\n",
    "if use_cuda:\n",
    "    model = nn.DataParallel(model)\n",
    "    model = model.cuda()\n",
    "    # torch.backends.cudnn.enabled = False\n",
    "\n",
    "start_time = time.time()\n",
    "epoch_start_time = time.time()\n",
    "tic = time.time()\n",
    "\n",
    "train_losses = []\n",
    "val_losses = []\n",
    "\n",
    "print(\"Beginning training\")\n",
    "for epoch in range(initial_epoch, num_epochs + 1):\n",
    "\n",
    "    total_train_loss = 0\n",
    "    total_train_batches = 0\n",
    "\n",
    "    for batch, (data, labels) in enumerate(train_dataloader):\n",
    "        if use_cuda:\n",
    "            data = data.cuda()\n",
    "            labels = labels.cuda()\n",
    "        \n",
    "        outs = model(data)\n",
    "        \n",
    "        loss = cross_entropy_loss(outs, labels)\n",
    "\n",
    "        model.zero_grad(set_to_none=True)\n",
    "        loss.backward()\n",
    "        optimizer.step()\n",
    "        \n",
    "        total_train_loss += float(loss)\n",
    "        total_train_batches += 1\n",
    "        \n",
    "        if time.time() - tic > 10 * 60: # 10 minutes\n",
    "            checkpoint_state = {\n",
    "                'epoch': epoch,\n",
    "                'model_state_dict': model.state_dict(),\n",
    "                'optimizer_state_dict': optimizer.state_dict(),\n",
    "                'scheduler_state_dict': scheduler.state_dict(),\n",
    "            }\n",
    "            torch.save(checkpoint_state, checkpoint_path)\n",
    "            print(\"Checkpoint saved\")\n",
    "            \n",
    "            tic = time.time()\n",
    "\n",
    "    total_train_loss /= total_train_batches\n",
    "    train_losses.append(total_train_loss)\n",
    "\n",
    "    with torch.no_grad():\n",
    "        model.eval()\n",
    "\n",
    "        total_val_loss = 0\n",
    "        total_val_batches = 0\n",
    "        \n",
    "        for batch, (data, labels) in enumerate(val_dataloader):\n",
    "            if use_cuda:\n",
    "                data = data.cuda()\n",
    "                labels = labels.cuda()\n",
    "        \n",
    "            outs = model(data)\n",
    "            \n",
    "            loss = cross_entropy_loss(outs, labels)\n",
    "\n",
    "            total_val_loss += float(loss)\n",
    "            total_val_batches += 1\n",
    "\n",
    "        total_val_loss /= total_val_batches\n",
    "        val_losses.append(total_val_loss)\n",
    "\n",
    "        model.train()\n",
    "\n",
    "    scheduler.step()\n",
    "\n",
    "    if epoch % epochs_per_summary == epochs_per_summary - 1:\n",
    "        epoch_time = (time.time() - epoch_start_time) / epochs_per_summary\n",
    "\n",
    "        progress_msg = \"Epoch: {epoch}, Train Total Loss {total_loss}\".format(epoch=epoch, total_loss=total_train_loss)\n",
    "        progress_msg += \", Val Total Loss {total_loss}, Time {time}\".format(total_loss=total_val_loss, time=epoch_time)\n",
    "        \n",
    "        print(progress_msg)\n",
    "\n",
    "        checkpoint_state = {\n",
    "            'epoch': epoch + 1,\n",
    "            'model_state_dict': model.state_dict(),\n",
    "            'optimizer_state_dict': optimizer.state_dict(),\n",
    "            'scheduler_state_dict': scheduler.state_dict(),\n",
    "        }\n",
    "        \n",
    "        torch.save(checkpoint_state, checkpoint_path)\n",
    "        print(\"Checkpoint saved\")\n",
    "        \n",
    "        tic = time.time()\n",
    "        epoch_start_time = time.time()\n",
    "\n",
    "end_time = time.time()\n",
    "print(\"Completed training.\")\n",
    "\n",
    "\n",
    "# In[ ]:\n",
    "\n",
    "\n",
    "torch.save(model.state_dict(), os.path.join(root_path, \"task2_model.pt\"))\n"
   ]
  },
  {
   "cell_type": "code",
   "execution_count": 60,
   "metadata": {
    "id": "ypGSfhCNmMFz"
   },
   "outputs": [],
   "source": [
    "np.save(os.path.join(root_path, 'task2_train_losses.npy'), np.array(train_losses))\n",
    "np.save(os.path.join(root_path, 'task2_val_losses.npy'), np.array(val_losses))"
   ]
  },
  {
   "cell_type": "markdown",
   "metadata": {},
   "source": [
    "# Getting stats (note that training code block was not run prior to this point)"
   ]
  },
  {
   "cell_type": "code",
   "execution_count": 24,
   "metadata": {},
   "outputs": [],
   "source": [
    "model = nn.DataParallel(model)"
   ]
  },
  {
   "cell_type": "code",
   "execution_count": 25,
   "metadata": {},
   "outputs": [
    {
     "data": {
      "text/plain": [
       "<All keys matched successfully>"
      ]
     },
     "execution_count": 25,
     "metadata": {},
     "output_type": "execute_result"
    }
   ],
   "source": [
    "model.load_state_dict(torch.load(os.path.join(root_path, \"task2_model.pt\")))"
   ]
  },
  {
   "cell_type": "code",
   "execution_count": 26,
   "metadata": {},
   "outputs": [],
   "source": [
    "test_data = data[test_idxs]\n",
    "test_labels = labels[test_idxs]"
   ]
  },
  {
   "cell_type": "code",
   "execution_count": 27,
   "metadata": {},
   "outputs": [
    {
     "data": {
      "text/plain": [
       "torch.Size([15000, 1, 16])"
      ]
     },
     "execution_count": 27,
     "metadata": {},
     "output_type": "execute_result"
    }
   ],
   "source": [
    "test_data.shape"
   ]
  },
  {
   "cell_type": "code",
   "execution_count": 28,
   "metadata": {},
   "outputs": [],
   "source": [
    "test_dataset = classification_dataset(test_data, test_labels)\n",
    "test_dataloader = DataLoader(test_dataset, batch_size=batch_size, pin_memory=False, num_workers=0, drop_last=False, shuffle=False)"
   ]
  },
  {
   "cell_type": "code",
   "execution_count": 46,
   "metadata": {},
   "outputs": [],
   "source": [
    "softmax = nn.Softmax(dim=1)\n",
    "all_predictions = []\n",
    "all_probabilities = []\n",
    "all_gts = []\n",
    "with torch.no_grad():\n",
    "        model.eval()\n",
    "\n",
    "        total_test_loss = 0\n",
    "        total_test_batches = 0\n",
    "        \n",
    "        for batch, (data, labels) in enumerate(test_dataloader):\n",
    "            if use_cuda:\n",
    "                data = data.cuda()\n",
    "                labels = labels.cuda()\n",
    "        \n",
    "            outs = model(data)\n",
    "            preds = softmax(outs).detach().cpu()\n",
    "            all_predictions.append(torch.argmax(preds, dim=1))\n",
    "            all_probabilities.append(torch.max(preds, dim=1)[0])\n",
    "            all_gts.append(labels.detach().cpu())"
   ]
  },
  {
   "cell_type": "code",
   "execution_count": 30,
   "metadata": {},
   "outputs": [
    {
     "data": {
      "image/png": "[encoded data removed]",
      "text/plain": [
       "<Figure size 432x288 with 2 Axes>"
      ]
     },
     "metadata": {
      "needs_background": "light"
     },
     "output_type": "display_data"
    }
   ],
   "source": [
    "from sklearn.metrics import confusion_matrix, ConfusionMatrixDisplay\n",
    "\n",
    "cm = confusion_matrix(torch.cat(all_gts).numpy(), torch.cat(all_predictions).numpy(), labels=[0, 1, 2])\n",
    "disp = ConfusionMatrixDisplay(confusion_matrix=cm, display_labels=[0, 1, 2])\n",
    "disp.plot()\n",
    "plt.show()"
   ]
  },
  {
   "cell_type": "code",
   "execution_count": 40,
   "metadata": {},
   "outputs": [
    {
     "data": {
      "text/plain": [
       "0.9009333333333334"
      ]
     },
     "execution_count": 40,
     "metadata": {},
     "output_type": "execute_result"
    }
   ],
   "source": [
    "np.equal(torch.cat(all_gts).numpy(), torch.cat(all_predictions).numpy()).sum() / len(torch.cat(all_gts))"
   ]
  },
  {
   "cell_type": "code",
   "execution_count": 54,
   "metadata": {},
   "outputs": [],
   "source": [
    "consolidated_test_results = torch.cat((torch.cat(all_probabilities).unsqueeze(1), torch.cat(all_predictions).unsqueeze(1), torch.cat(all_gts).unsqueeze(1)), dim=1).numpy()"
   ]
  },
  {
   "cell_type": "code",
   "execution_count": 57,
   "metadata": {},
   "outputs": [],
   "source": [
    "test_results = pd.DataFrame(consolidated_test_results, columns=['Probabilities', 'Predictions', 'Ground Truth'])"
   ]
  },
  {
   "cell_type": "code",
   "execution_count": 61,
   "metadata": {},
   "outputs": [],
   "source": [
    "test_results.to_csv(os.path.join(root_path, \"test_results.csv\"), index=False)"
   ]
  },
  {
   "cell_type": "code",
   "execution_count": null,
   "metadata": {},
   "outputs": [],
   "source": []
  },
  {
   "cell_type": "code",
   "execution_count": 62,
   "metadata": {},
   "outputs": [],
   "source": [
    "val_dataset = classification_dataset(val_data, val_labels)\n",
    "val_dataloader = DataLoader(val_dataset, batch_size=batch_size, pin_memory=False, num_workers=0, drop_last=False, shuffle=False)"
   ]
  },
  {
   "cell_type": "code",
   "execution_count": 63,
   "metadata": {},
   "outputs": [],
   "source": [
    "softmax = nn.Softmax(dim=1)\n",
    "all_predictions = []\n",
    "all_probabilities = []\n",
    "all_gts = []\n",
    "with torch.no_grad():\n",
    "        model.eval()\n",
    "\n",
    "        total_val_loss = 0\n",
    "        total_val_batches = 0\n",
    "        \n",
    "        for batch, (data, labels) in enumerate(val_dataloader):\n",
    "            if use_cuda:\n",
    "                data = data.cuda()\n",
    "                labels = labels.cuda()\n",
    "        \n",
    "            outs = model(data)\n",
    "            preds = softmax(outs).detach().cpu()\n",
    "            all_predictions.append(torch.argmax(preds, dim=1))\n",
    "            all_probabilities.append(torch.max(preds, dim=1)[0])\n",
    "            all_gts.append(labels.detach().cpu())"
   ]
  },
  {
   "cell_type": "code",
   "execution_count": 64,
   "metadata": {},
   "outputs": [
    {
     "data": {
      "image/png": "[encoded data removed]",
      "text/plain": [
       "<Figure size 432x288 with 2 Axes>"
      ]
     },
     "metadata": {
      "needs_background": "light"
     },
     "output_type": "display_data"
    }
   ],
   "source": [
    "from sklearn.metrics import confusion_matrix, ConfusionMatrixDisplay\n",
    "\n",
    "cm = confusion_matrix(torch.cat(all_gts).numpy(), torch.cat(all_predictions).numpy(), labels=[0, 1, 2])\n",
    "disp = ConfusionMatrixDisplay(confusion_matrix=cm, display_labels=[0, 1, 2])\n",
    "disp.plot()\n",
    "plt.show()"
   ]
  },
  {
   "cell_type": "code",
   "execution_count": 65,
   "metadata": {},
   "outputs": [
    {
     "data": {
      "text/plain": [
       "0.9009333333333334"
      ]
     },
     "execution_count": 65,
     "metadata": {},
     "output_type": "execute_result"
    }
   ],
   "source": [
    "np.equal(torch.cat(all_gts).numpy(), torch.cat(all_predictions).numpy()).sum() / len(torch.cat(all_gts))"
   ]
  },
  {
   "cell_type": "code",
   "execution_count": 66,
   "metadata": {},
   "outputs": [],
   "source": [
    "consolidated_val_results = torch.cat((torch.cat(all_probabilities).unsqueeze(1), torch.cat(all_predictions).unsqueeze(1), torch.cat(all_gts).unsqueeze(1)), dim=1).numpy()"
   ]
  },
  {
   "cell_type": "code",
   "execution_count": 67,
   "metadata": {},
   "outputs": [],
   "source": [
    "val_results = pd.DataFrame(consolidated_val_results, columns=['Probabilities', 'Predictions', 'Ground Truth'])"
   ]
  },
  {
   "cell_type": "code",
   "execution_count": 68,
   "metadata": {},
   "outputs": [],
   "source": [
    "val_results.to_csv(os.path.join(root_path, \"val_results.csv\"), index=False)"
   ]
  },
  {
   "cell_type": "code",
   "execution_count": 69,
   "metadata": {},
   "outputs": [],
   "source": [
    "train_dataset = classification_dataset(train_data, train_labels)\n",
    "train_dataloader = DataLoader(train_dataset, batch_size=batch_size, pin_memory=False, num_workers=0, drop_last=False, shuffle=False)"
   ]
  },
  {
   "cell_type": "code",
   "execution_count": 70,
   "metadata": {},
   "outputs": [],
   "source": [
    "softmax = nn.Softmax(dim=1)\n",
    "all_predictions = []\n",
    "all_probabilities = []\n",
    "all_gts = []\n",
    "with torch.no_grad():\n",
    "        model.eval()\n",
    "\n",
    "        total_train_loss = 0\n",
    "        total_train_batches = 0\n",
    "        \n",
    "        for batch, (data, labels) in enumerate(train_dataloader):\n",
    "            if use_cuda:\n",
    "                data = data.cuda()\n",
    "                labels = labels.cuda()\n",
    "        \n",
    "            outs = model(data)\n",
    "            preds = softmax(outs).detach().cpu()\n",
    "            all_predictions.append(torch.argmax(preds, dim=1))\n",
    "            all_probabilities.append(torch.max(preds, dim=1)[0])\n",
    "            all_gts.append(labels.detach().cpu())"
   ]
  },
  {
   "cell_type": "code",
   "execution_count": 71,
   "metadata": {},
   "outputs": [
    {
     "data": {
      "image/png": "[encoded data removed]",
      "text/plain": [
       "<Figure size 432x288 with 2 Axes>"
      ]
     },
     "metadata": {
      "needs_background": "light"
     },
     "output_type": "display_data"
    }
   ],
   "source": [
    "from sklearn.metrics import confusion_matrix, ConfusionMatrixDisplay\n",
    "\n",
    "cm = confusion_matrix(torch.cat(all_gts).numpy(), torch.cat(all_predictions).numpy(), labels=[0, 1, 2])\n",
    "disp = ConfusionMatrixDisplay(confusion_matrix=cm, display_labels=[0, 1, 2])\n",
    "disp.plot()\n",
    "plt.show()"
   ]
  },
  {
   "cell_type": "code",
   "execution_count": 72,
   "metadata": {},
   "outputs": [
    {
     "data": {
      "text/plain": [
       "0.9007833333333334"
      ]
     },
     "execution_count": 72,
     "metadata": {},
     "output_type": "execute_result"
    }
   ],
   "source": [
    "np.equal(torch.cat(all_gts).numpy(), torch.cat(all_predictions).numpy()).sum() / len(torch.cat(all_gts))"
   ]
  },
  {
   "cell_type": "code",
   "execution_count": 73,
   "metadata": {},
   "outputs": [],
   "source": [
    "consolidated_train_results = torch.cat((torch.cat(all_probabilities).unsqueeze(1), torch.cat(all_predictions).unsqueeze(1), torch.cat(all_gts).unsqueeze(1)), dim=1).numpy()"
   ]
  },
  {
   "cell_type": "code",
   "execution_count": 74,
   "metadata": {},
   "outputs": [],
   "source": [
    "train_results = pd.DataFrame(consolidated_train_results, columns=['Probabilities', 'Predictions', 'Ground Truth'])"
   ]
  },
  {
   "cell_type": "code",
   "execution_count": 75,
   "metadata": {},
   "outputs": [],
   "source": [
    "train_results.to_csv(os.path.join(root_path, \"train_results.csv\"), index=False)"
   ]
  },
  {
   "cell_type": "code",
   "execution_count": null,
   "metadata": {},
   "outputs": [],
   "source": []
  }
 ],
 "metadata": {
  "accelerator": "GPU",
  "colab": {
   "provenance": []
  },
  "gpuClass": "standard",
  "kernelspec": {
   "display_name": "Python 3 (ipykernel)",
   "language": "python",
   "name": "python3"
  },
  "language_info": {
   "codemirror_mode": {
    "name": "ipython",
    "version": 3
   },
   "file_extension": ".py",
   "mimetype": "text/x-python",
   "name": "python",
   "nbconvert_exporter": "python",
   "pygments_lexer": "ipython3",
   "version": "3.9.2"
  }
 },
 "nbformat": 4,
 "nbformat_minor": 1
}
